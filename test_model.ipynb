{
 "cells": [
  {
   "cell_type": "code",
   "execution_count": 1,
   "id": "bda344c8",
   "metadata": {},
   "outputs": [
    {
     "name": "stdout",
     "output_type": "stream",
     "text": [
      "#############################################\n",
      "[OPTIMAL] optimal solution profit 0.0 found\n",
      "Producto 0, Tienda 0: 30.0\n",
      "Producto 0, Tienda 1: 20.0\n",
      "Producto 1, Tienda 0: 25.0\n",
      "Producto 1, Tienda 1: 15.0\n"
     ]
    }
   ],
   "source": [
    "from model import Modelo\n",
    "\n",
    "# Instanciamos el modelo\n",
    "modelo = Modelo()\n",
    "\n",
    "# Definimos sets\n",
    "sets = {\n",
    "    'productos': [0, 1],  # Producto 0 y Producto 1\n",
    "    'tiendas': [0, 1]     # Tienda 0 y Tienda 1\n",
    "}\n",
    "\n",
    "# Definimos parámetros (mismos índices que los sets)\n",
    "parameters = {\n",
    "    'DemandaProducto': [\n",
    "        [30, 20],  # Demanda del Producto 0 en Tienda 0 y 1\n",
    "        [25, 15]   # Demanda del Producto 1 en Tienda 0 y 1\n",
    "    ],\n",
    "    'CostoInventario': [\n",
    "        [2, 3],  # Costo almacenar Producto 0 en Tienda 0 y 1\n",
    "        [4, 2]   # Costo almacenar Producto 1 en Tienda 0 y 1\n",
    "    ],\n",
    "    'CostoQuiebre': [\n",
    "        [10, 12],  # Costo quiebre Producto 0 en Tienda 0 y 1\n",
    "        [15, 11]   # Costo quiebre Producto 1 en Tienda 0 y 1\n",
    "    ],\n",
    "    'CantidadMinima': [\n",
    "        [10, 5],   # Cantidad mínima Producto 0 en Tienda 0 y 1\n",
    "        [8, 4]     # Cantidad mínima Producto 1 en Tienda 0 y 1\n",
    "    ],\n",
    "    'ProduccionMaxima': [60, 50],  # Máxima producción para Producto 0 y 1\n",
    "    'almacenajeTienda': [70, 60]   # Capacidad total de Tienda 0 y Tienda 1\n",
    "}\n",
    "\n",
    "# Ejecutamos el modelo\n",
    "modelo.setsParameters(sets, parameters)\n",
    "modelo.variables()\n",
    "modelo.objetive()\n",
    "modelo.constrains()\n",
    "modelo.run_model()\n",
    "\n",
    "# Mostramos los resultados\n",
    "x = modelo.results()\n",
    "for i in sets['productos']:\n",
    "    for j in sets['tiendas']:\n",
    "        print(f'Producto {i}, Tienda {j}: {x[i][j].x}')"
   ]
  },
  {
   "cell_type": "code",
   "execution_count": null,
   "id": "191bb9cd",
   "metadata": {},
   "outputs": [],
   "source": []
  }
 ],
 "metadata": {
  "kernelspec": {
   "display_name": "venv",
   "language": "python",
   "name": "python3"
  },
  "language_info": {
   "codemirror_mode": {
    "name": "ipython",
    "version": 3
   },
   "file_extension": ".py",
   "mimetype": "text/x-python",
   "name": "python",
   "nbconvert_exporter": "python",
   "pygments_lexer": "ipython3",
   "version": "3.10.6"
  }
 },
 "nbformat": 4,
 "nbformat_minor": 5
}

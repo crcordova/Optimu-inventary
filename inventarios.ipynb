{
 "cells": [
  {
   "cell_type": "code",
   "execution_count": 2,
   "id": "a555b4e2",
   "metadata": {},
   "outputs": [],
   "source": [
    "import pandas as pd\n",
    "from model import Modelo\n",
    "import random\n",
    "from statistics import mean"
   ]
  },
  {
   "cell_type": "markdown",
   "id": "e9f9be7a",
   "metadata": {},
   "source": [
    "###  Cargando Data, Creación Sets y Parametros"
   ]
  },
  {
   "cell_type": "code",
   "execution_count": null,
   "id": "e54eec83",
   "metadata": {},
   "outputs": [],
   "source": [
    "data = pd.read_csv('data/forecast.csv')\n",
    "\n",
    "sets = {}\n",
    "parameters = {}\n",
    "tiendas ={i:tienda for i, tienda in enumerate(list(data['tienda'].unique()))}\n",
    "productos ={i:product for i, product in enumerate(list(data['sku'].unique()))}\n",
    "sets['productos'] = productos\n",
    "sets['tiendas'] = tiendas"
   ]
  },
  {
   "cell_type": "code",
   "execution_count": null,
   "id": "e2b4d5e8",
   "metadata": {},
   "outputs": [
    {
     "data": {
      "application/vnd.microsoft.datawrangler.viewer.v0+json": {
       "columns": [
        {
         "name": "sku",
         "rawType": "object",
         "type": "string"
        },
        {
         "name": "Tienda_01",
         "rawType": "int64",
         "type": "integer"
        },
        {
         "name": "Tienda_02",
         "rawType": "int64",
         "type": "integer"
        },
        {
         "name": "Tienda_03",
         "rawType": "int64",
         "type": "integer"
        },
        {
         "name": "Tienda_04",
         "rawType": "int64",
         "type": "integer"
        },
        {
         "name": "Tienda_05",
         "rawType": "int64",
         "type": "integer"
        },
        {
         "name": "Tienda_06",
         "rawType": "int64",
         "type": "integer"
        },
        {
         "name": "Tienda_07",
         "rawType": "int64",
         "type": "integer"
        },
        {
         "name": "Tienda_08",
         "rawType": "int64",
         "type": "integer"
        }
       ],
       "ref": "bae89fed-3371-4ea3-869a-6b8f56ba7d8b",
       "rows": [
        [
         "SKU_01",
         "6577",
         "5835",
         "6369",
         "4580",
         "7286",
         "4481",
         "4293",
         "3391"
        ],
        [
         "SKU_02",
         "3645",
         "4518",
         "3633",
         "6187",
         "4943",
         "3561",
         "3229",
         "3626"
        ],
        [
         "SKU_03",
         "2301",
         "2051",
         "1983",
         "3122",
         "1901",
         "2844",
         "1900",
         "1848"
        ],
        [
         "SKU_04",
         "1616",
         "1999",
         "2110",
         "1744",
         "2100",
         "2149",
         "1096",
         "1335"
        ],
        [
         "SKU_05",
         "1500",
         "1767",
         "1558",
         "1630",
         "1579",
         "1253",
         "1102",
         "784"
        ],
        [
         "SKU_06",
         "769",
         "829",
         "545",
         "744",
         "917",
         "788",
         "732",
         "412"
        ],
        [
         "SKU_07",
         "2376",
         "2435",
         "1953",
         "2240",
         "2517",
         "2030",
         "1305",
         "1693"
        ],
        [
         "SKU_08",
         "1485",
         "1842",
         "2004",
         "1917",
         "1536",
         "1678",
         "1114",
         "842"
        ],
        [
         "SKU_09",
         "376",
         "289",
         "334",
         "431",
         "401",
         "368",
         "325",
         "318"
        ],
        [
         "SKU_10",
         "846",
         "880",
         "959",
         "887",
         "884",
         "962",
         "650",
         "475"
        ],
        [
         "SKU_11",
         "456",
         "243",
         "473",
         "419",
         "390",
         "416",
         "375",
         "342"
        ],
        [
         "SKU_12",
         "232",
         "285",
         "204",
         "256",
         "325",
         "238",
         "197",
         "223"
        ]
       ],
       "shape": {
        "columns": 8,
        "rows": 12
       }
      },
      "text/html": [
       "<div>\n",
       "<style scoped>\n",
       "    .dataframe tbody tr th:only-of-type {\n",
       "        vertical-align: middle;\n",
       "    }\n",
       "\n",
       "    .dataframe tbody tr th {\n",
       "        vertical-align: top;\n",
       "    }\n",
       "\n",
       "    .dataframe thead th {\n",
       "        text-align: right;\n",
       "    }\n",
       "</style>\n",
       "<table border=\"1\" class=\"dataframe\">\n",
       "  <thead>\n",
       "    <tr style=\"text-align: right;\">\n",
       "      <th>tienda</th>\n",
       "      <th>Tienda_01</th>\n",
       "      <th>Tienda_02</th>\n",
       "      <th>Tienda_03</th>\n",
       "      <th>Tienda_04</th>\n",
       "      <th>Tienda_05</th>\n",
       "      <th>Tienda_06</th>\n",
       "      <th>Tienda_07</th>\n",
       "      <th>Tienda_08</th>\n",
       "    </tr>\n",
       "    <tr>\n",
       "      <th>sku</th>\n",
       "      <th></th>\n",
       "      <th></th>\n",
       "      <th></th>\n",
       "      <th></th>\n",
       "      <th></th>\n",
       "      <th></th>\n",
       "      <th></th>\n",
       "      <th></th>\n",
       "    </tr>\n",
       "  </thead>\n",
       "  <tbody>\n",
       "    <tr>\n",
       "      <th>SKU_01</th>\n",
       "      <td>6577</td>\n",
       "      <td>5835</td>\n",
       "      <td>6369</td>\n",
       "      <td>4580</td>\n",
       "      <td>7286</td>\n",
       "      <td>4481</td>\n",
       "      <td>4293</td>\n",
       "      <td>3391</td>\n",
       "    </tr>\n",
       "    <tr>\n",
       "      <th>SKU_02</th>\n",
       "      <td>3645</td>\n",
       "      <td>4518</td>\n",
       "      <td>3633</td>\n",
       "      <td>6187</td>\n",
       "      <td>4943</td>\n",
       "      <td>3561</td>\n",
       "      <td>3229</td>\n",
       "      <td>3626</td>\n",
       "    </tr>\n",
       "    <tr>\n",
       "      <th>SKU_03</th>\n",
       "      <td>2301</td>\n",
       "      <td>2051</td>\n",
       "      <td>1983</td>\n",
       "      <td>3122</td>\n",
       "      <td>1901</td>\n",
       "      <td>2844</td>\n",
       "      <td>1900</td>\n",
       "      <td>1848</td>\n",
       "    </tr>\n",
       "    <tr>\n",
       "      <th>SKU_04</th>\n",
       "      <td>1616</td>\n",
       "      <td>1999</td>\n",
       "      <td>2110</td>\n",
       "      <td>1744</td>\n",
       "      <td>2100</td>\n",
       "      <td>2149</td>\n",
       "      <td>1096</td>\n",
       "      <td>1335</td>\n",
       "    </tr>\n",
       "    <tr>\n",
       "      <th>SKU_05</th>\n",
       "      <td>1500</td>\n",
       "      <td>1767</td>\n",
       "      <td>1558</td>\n",
       "      <td>1630</td>\n",
       "      <td>1579</td>\n",
       "      <td>1253</td>\n",
       "      <td>1102</td>\n",
       "      <td>784</td>\n",
       "    </tr>\n",
       "    <tr>\n",
       "      <th>SKU_06</th>\n",
       "      <td>769</td>\n",
       "      <td>829</td>\n",
       "      <td>545</td>\n",
       "      <td>744</td>\n",
       "      <td>917</td>\n",
       "      <td>788</td>\n",
       "      <td>732</td>\n",
       "      <td>412</td>\n",
       "    </tr>\n",
       "    <tr>\n",
       "      <th>SKU_07</th>\n",
       "      <td>2376</td>\n",
       "      <td>2435</td>\n",
       "      <td>1953</td>\n",
       "      <td>2240</td>\n",
       "      <td>2517</td>\n",
       "      <td>2030</td>\n",
       "      <td>1305</td>\n",
       "      <td>1693</td>\n",
       "    </tr>\n",
       "    <tr>\n",
       "      <th>SKU_08</th>\n",
       "      <td>1485</td>\n",
       "      <td>1842</td>\n",
       "      <td>2004</td>\n",
       "      <td>1917</td>\n",
       "      <td>1536</td>\n",
       "      <td>1678</td>\n",
       "      <td>1114</td>\n",
       "      <td>842</td>\n",
       "    </tr>\n",
       "    <tr>\n",
       "      <th>SKU_09</th>\n",
       "      <td>376</td>\n",
       "      <td>289</td>\n",
       "      <td>334</td>\n",
       "      <td>431</td>\n",
       "      <td>401</td>\n",
       "      <td>368</td>\n",
       "      <td>325</td>\n",
       "      <td>318</td>\n",
       "    </tr>\n",
       "    <tr>\n",
       "      <th>SKU_10</th>\n",
       "      <td>846</td>\n",
       "      <td>880</td>\n",
       "      <td>959</td>\n",
       "      <td>887</td>\n",
       "      <td>884</td>\n",
       "      <td>962</td>\n",
       "      <td>650</td>\n",
       "      <td>475</td>\n",
       "    </tr>\n",
       "    <tr>\n",
       "      <th>SKU_11</th>\n",
       "      <td>456</td>\n",
       "      <td>243</td>\n",
       "      <td>473</td>\n",
       "      <td>419</td>\n",
       "      <td>390</td>\n",
       "      <td>416</td>\n",
       "      <td>375</td>\n",
       "      <td>342</td>\n",
       "    </tr>\n",
       "    <tr>\n",
       "      <th>SKU_12</th>\n",
       "      <td>232</td>\n",
       "      <td>285</td>\n",
       "      <td>204</td>\n",
       "      <td>256</td>\n",
       "      <td>325</td>\n",
       "      <td>238</td>\n",
       "      <td>197</td>\n",
       "      <td>223</td>\n",
       "    </tr>\n",
       "  </tbody>\n",
       "</table>\n",
       "</div>"
      ],
      "text/plain": [
       "tienda  Tienda_01  Tienda_02  Tienda_03  Tienda_04  Tienda_05  Tienda_06  \\\n",
       "sku                                                                        \n",
       "SKU_01       6577       5835       6369       4580       7286       4481   \n",
       "SKU_02       3645       4518       3633       6187       4943       3561   \n",
       "SKU_03       2301       2051       1983       3122       1901       2844   \n",
       "SKU_04       1616       1999       2110       1744       2100       2149   \n",
       "SKU_05       1500       1767       1558       1630       1579       1253   \n",
       "SKU_06        769        829        545        744        917        788   \n",
       "SKU_07       2376       2435       1953       2240       2517       2030   \n",
       "SKU_08       1485       1842       2004       1917       1536       1678   \n",
       "SKU_09        376        289        334        431        401        368   \n",
       "SKU_10        846        880        959        887        884        962   \n",
       "SKU_11        456        243        473        419        390        416   \n",
       "SKU_12        232        285        204        256        325        238   \n",
       "\n",
       "tienda  Tienda_07  Tienda_08  \n",
       "sku                           \n",
       "SKU_01       4293       3391  \n",
       "SKU_02       3229       3626  \n",
       "SKU_03       1900       1848  \n",
       "SKU_04       1096       1335  \n",
       "SKU_05       1102        784  \n",
       "SKU_06        732        412  \n",
       "SKU_07       1305       1693  \n",
       "SKU_08       1114        842  \n",
       "SKU_09        325        318  \n",
       "SKU_10        650        475  \n",
       "SKU_11        375        342  \n",
       "SKU_12        197        223  "
      ]
     },
     "execution_count": 5,
     "metadata": {},
     "output_type": "execute_result"
    }
   ],
   "source": [
    "# como el modelo no considera la dimensionalidad de tiempo, sumare la cantidad total de unidades de todos los productos para cada tienda,\n",
    "# es decir, tendre una demanda semanal por cada producto en cada tienda\n",
    "df_pivot = data.pivot_table(\n",
    "    index='sku',\n",
    "    columns='tienda',\n",
    "    values='pred',\n",
    "    aggfunc='sum',\n",
    "    fill_value=0 \n",
    ")\n",
    "df_pivot"
   ]
  },
  {
   "cell_type": "markdown",
   "id": "e4f677ee",
   "metadata": {},
   "source": [
    "### Transformaciones"
   ]
  },
  {
   "cell_type": "code",
   "execution_count": 32,
   "id": "de7bb1ef",
   "metadata": {},
   "outputs": [],
   "source": [
    "parameters['DemandaProducto'] = {\n",
    "    prod_id: df_pivot.loc[prod_name].tolist()\n",
    "    for prod_id, prod_name in productos.items()\n",
    "}\n",
    "\n",
    "# **Supuesto la cantidad mínima sera 1/3 de la demanda\n",
    "parameters['CantidadMinima'] = {\n",
    "    prod_id: [int(round(value / 3)) for value in df_pivot.loc[prod_name]]\n",
    "    for prod_id, prod_name in productos.items()\n",
    "}"
   ]
  },
  {
   "cell_type": "code",
   "execution_count": 33,
   "id": "73fb0736",
   "metadata": {},
   "outputs": [],
   "source": [
    "# Costo inventarios numeros aletorios\n",
    "parameters['CostoInventario'] = {prod_id:{tienda_id:random.randint(5, 10)  for tienda_id in tiendas} for prod_id in productos}\n",
    "parameters['CostoQuiebre'] = {prod_id:{tienda_id:random.randint(8, 12)  for tienda_id in tiendas} for prod_id in productos}"
   ]
  },
  {
   "cell_type": "code",
   "execution_count": 34,
   "id": "48ff3faa",
   "metadata": {},
   "outputs": [],
   "source": [
    "# **Supuesto** la producción máxima de productos sera 4 veces el promedio de la demanda de todas la tiendas\n",
    "parameters['ProduccionMaxima'] = {prod_id: int(mean(parameters['DemandaProducto'][prod_id])*4) for prod_id in productos}\n",
    "\n",
    "# **Supuesto** la capacidad de almacenaje de cada tienda sera 2/3 del total de productos que demandara\n",
    "parameters['almacenajeTienda'] = {tienda : int(df_pivot[tiendas[tienda]].sum()*2/3) for tienda in tiendas}"
   ]
  },
  {
   "cell_type": "markdown",
   "id": "c41431e2",
   "metadata": {},
   "source": [
    "### Buscando Óptimo"
   ]
  },
  {
   "cell_type": "code",
   "execution_count": 35,
   "id": "7cd4de29",
   "metadata": {},
   "outputs": [
    {
     "name": "stdout",
     "output_type": "stream",
     "text": [
      "#############################################\n",
      "[OPTIMAL] optimal solution profit 792195.0 found\n"
     ]
    }
   ],
   "source": [
    "modelo = Modelo()\n",
    "\n",
    "modelo.setsParameters(sets, parameters)\n",
    "modelo.variables()\n",
    "modelo.objetive()\n",
    "modelo.constrains()\n",
    "modelo.run_model()"
   ]
  },
  {
   "cell_type": "code",
   "execution_count": null,
   "id": "0b663c83",
   "metadata": {},
   "outputs": [],
   "source": [
    "df_result = []\n",
    "\n",
    "x = modelo.results()\n",
    "for i in sets['productos']:\n",
    "    for j in sets['tiendas']:\n",
    "        # print(f'Producto {i}, Tienda {j}: {x[i][j].x}')\n",
    "        value = x[i][j].x\n",
    "        df_result.append({'producto': i, 'tienda': j, 'cantidad': value})"
   ]
  },
  {
   "cell_type": "markdown",
   "id": "3ace7a3d",
   "metadata": {},
   "source": [
    "### Grafico de Resultados, Inventario semanal optimo"
   ]
  },
  {
   "cell_type": "code",
   "execution_count": null,
   "id": "a14fe66d",
   "metadata": {},
   "outputs": [
    {
     "data": {
      "application/vnd.plotly.v1+json": {
       "config": {
        "plotlyServerURL": "https://plot.ly"
       },
       "data": [
        {
         "alignmentgroup": "True",
         "hovertemplate": "tienda=Tienda_04<br>producto=%{x}<br>cantidad=%{y}<extra></extra>",
         "legendgroup": "Tienda_04",
         "marker": {
          "color": "#636efa",
          "pattern": {
           "shape": ""
          }
         },
         "name": "Tienda_04",
         "offsetgroup": "Tienda_04",
         "orientation": "v",
         "showlegend": true,
         "textposition": "auto",
         "type": "bar",
         "x": [
          "SKU_01",
          "SKU_02",
          "SKU_03",
          "SKU_04",
          "SKU_05",
          "SKU_06",
          "SKU_07",
          "SKU_08",
          "SKU_09",
          "SKU_10",
          "SKU_11",
          "SKU_12"
         ],
         "xaxis": "x",
         "y": {
          "bdata": "AAAAAACxuUAAAAAAALCUQAAAAAAA+IdAAAAAAADYgEAAAAAAAEB/QAAAAAAAQHRAAAAAAADAiEAAAAAAAPB+QAAAAAAAQF9AAAAAAABwikAAAAAAAIB8QAAAAAAAQFNA",
          "dtype": "f8"
         },
         "yaxis": "y"
        },
        {
         "alignmentgroup": "True",
         "hovertemplate": "tienda=Tienda_05<br>producto=%{x}<br>cantidad=%{y}<extra></extra>",
         "legendgroup": "Tienda_05",
         "marker": {
          "color": "#EF553B",
          "pattern": {
           "shape": ""
          }
         },
         "name": "Tienda_05",
         "offsetgroup": "Tienda_05",
         "orientation": "v",
         "showlegend": true,
         "textposition": "auto",
         "type": "bar",
         "x": [
          "SKU_01",
          "SKU_02",
          "SKU_03",
          "SKU_04",
          "SKU_05",
          "SKU_06",
          "SKU_07",
          "SKU_08",
          "SKU_09",
          "SKU_10",
          "SKU_11",
          "SKU_12"
         ],
         "xaxis": "x",
         "y": {
          "bdata": "AAAAAABknkAAAAAAAIiXQAAAAAAAYIVAAAAAAADQhEAAAAAAAGiCQAAAAAAAQHFAAAAAAACMnUAAAAAAADCDQAAAAAAAAFtAAAAAAABQckAAAAAAAEBUQAAAAAAAwFdA",
          "dtype": "f8"
         },
         "yaxis": "y"
        },
        {
         "alignmentgroup": "True",
         "hovertemplate": "tienda=Tienda_06<br>producto=%{x}<br>cantidad=%{y}<extra></extra>",
         "legendgroup": "Tienda_06",
         "marker": {
          "color": "#00cc96",
          "pattern": {
           "shape": ""
          }
         },
         "name": "Tienda_06",
         "offsetgroup": "Tienda_06",
         "orientation": "v",
         "showlegend": true,
         "textposition": "auto",
         "type": "bar",
         "x": [
          "SKU_01",
          "SKU_02",
          "SKU_03",
          "SKU_04",
          "SKU_05",
          "SKU_06",
          "SKU_07",
          "SKU_08",
          "SKU_09",
          "SKU_10",
          "SKU_11",
          "SKU_12"
         ],
         "xaxis": "x",
         "y": {
          "bdata": "AAAAAAAJs0AAAAAAAOySQAAAAAAAqIRAAAAAAACwmEAAAAAAADiAQAAAAAAACIFAAAAAAABYhEAAAAAAAMiaQAAAAAAAwFtAAAAAAAAAdEAAAAAAAMBjQAAAAAAAgGlA",
          "dtype": "f8"
         },
         "yaxis": "y"
        },
        {
         "alignmentgroup": "True",
         "hovertemplate": "tienda=Tienda_01<br>producto=%{x}<br>cantidad=%{y}<extra></extra>",
         "legendgroup": "Tienda_01",
         "marker": {
          "color": "#ab63fa",
          "pattern": {
           "shape": ""
          }
         },
         "name": "Tienda_01",
         "offsetgroup": "Tienda_01",
         "orientation": "v",
         "showlegend": true,
         "textposition": "auto",
         "type": "bar",
         "x": [
          "SKU_01",
          "SKU_02",
          "SKU_03",
          "SKU_04",
          "SKU_05",
          "SKU_06",
          "SKU_07",
          "SKU_08",
          "SKU_09",
          "SKU_10",
          "SKU_11",
          "SKU_12"
         ],
         "xaxis": "x",
         "y": {
          "bdata": "AAAAAADcl0AAAAAAABygQAAAAAAA4KVAAAAAAAAogkAAAAAAAIyYQAAAAAAAAG9AAAAAAABYh0AAAAAAAPiDQAAAAAAAAGJAAAAAAACAckAAAAAAAIBhQAAAAAAAAHBA",
          "dtype": "f8"
         },
         "yaxis": "y"
        },
        {
         "alignmentgroup": "True",
         "hovertemplate": "tienda=Tienda_02<br>producto=%{x}<br>cantidad=%{y}<extra></extra>",
         "legendgroup": "Tienda_02",
         "marker": {
          "color": "#FFA15A",
          "pattern": {
           "shape": ""
          }
         },
         "name": "Tienda_02",
         "offsetgroup": "Tienda_02",
         "orientation": "v",
         "showlegend": true,
         "textposition": "auto",
         "type": "bar",
         "x": [
          "SKU_01",
          "SKU_02",
          "SKU_03",
          "SKU_04",
          "SKU_05",
          "SKU_06",
          "SKU_07",
          "SKU_08",
          "SKU_09",
          "SKU_10",
          "SKU_11",
          "SKU_12"
         ],
         "xaxis": "x",
         "y": {
          "bdata": "AAAAAAD6okAAAAAAAE+zQAAAAAAA0INAAAAAAACslkAAAAAAAHCAQAAAAAAAIHNAAAAAAACqo0AAAAAAAACYQAAAAAAAwGBAAAAAAAAweEAAAAAAAIB1QAAAAAAAAFtA",
          "dtype": "f8"
         },
         "yaxis": "y"
        },
        {
         "alignmentgroup": "True",
         "hovertemplate": "tienda=Tienda_03<br>producto=%{x}<br>cantidad=%{y}<extra></extra>",
         "legendgroup": "Tienda_03",
         "marker": {
          "color": "#19d3f3",
          "pattern": {
           "shape": ""
          }
         },
         "name": "Tienda_03",
         "offsetgroup": "Tienda_03",
         "orientation": "v",
         "showlegend": true,
         "textposition": "auto",
         "type": "bar",
         "x": [
          "SKU_01",
          "SKU_02",
          "SKU_03",
          "SKU_04",
          "SKU_05",
          "SKU_06",
          "SKU_07",
          "SKU_08",
          "SKU_09",
          "SKU_10",
          "SKU_11",
          "SKU_12"
         ],
         "xaxis": "x",
         "y": {
          "bdata": "AAAAAABYl0AAAAAAAIySQAAAAAAAoI1AAAAAAABghkAAAAAAAJSTQAAAAAAAoIhAAAAAAAAohUAAAAAAAHiBQAAAAAAAAHdAAAAAAAAQdEAAAAAAAGBhQAAAAAAAwFNA",
          "dtype": "f8"
         },
         "yaxis": "y"
        },
        {
         "alignmentgroup": "True",
         "hovertemplate": "tienda=Tienda_07<br>producto=%{x}<br>cantidad=%{y}<extra></extra>",
         "legendgroup": "Tienda_07",
         "marker": {
          "color": "#FF6692",
          "pattern": {
           "shape": ""
          }
         },
         "name": "Tienda_07",
         "offsetgroup": "Tienda_07",
         "orientation": "v",
         "showlegend": true,
         "textposition": "auto",
         "type": "bar",
         "x": [
          "SKU_01",
          "SKU_02",
          "SKU_03",
          "SKU_04",
          "SKU_05",
          "SKU_06",
          "SKU_07",
          "SKU_08",
          "SKU_09",
          "SKU_10",
          "SKU_11",
          "SKU_12"
         ],
         "xaxis": "x",
         "y": {
          "bdata": "AAAAAABclkAAAAAAADqpQAAAAAAAyINAAAAAAAAgkUAAAAAAAPB2QAAAAAAAgG5AAAAAAAAwe0AAAAAAADB3QAAAAAAAUHRAAAAAAABQhEAAAAAAAEBfQAAAAAAAgFBA",
          "dtype": "f8"
         },
         "yaxis": "y"
        },
        {
         "alignmentgroup": "True",
         "hovertemplate": "tienda=Tienda_08<br>producto=%{x}<br>cantidad=%{y}<extra></extra>",
         "legendgroup": "Tienda_08",
         "marker": {
          "color": "#B6E880",
          "pattern": {
           "shape": ""
          }
         },
         "name": "Tienda_08",
         "offsetgroup": "Tienda_08",
         "orientation": "v",
         "showlegend": true,
         "textposition": "auto",
         "type": "bar",
         "x": [
          "SKU_01",
          "SKU_02",
          "SKU_03",
          "SKU_04",
          "SKU_05",
          "SKU_06",
          "SKU_07",
          "SKU_08",
          "SKU_09",
          "SKU_10",
          "SKU_11",
          "SKU_12"
         ],
         "xaxis": "x",
         "y": {
          "bdata": "AAAAAACokUAAAAAAAOSSQAAAAAAA4JxAAAAAAADQe0AAAAAAAFBwQAAAAAAAIGFAAAAAAACggUAAAAAAAJBxQAAAAAAAgFpAAAAAAADAY0AAAAAAAIBcQAAAAAAAwFdA",
          "dtype": "f8"
         },
         "yaxis": "y"
        }
       ],
       "layout": {
        "barmode": "group",
        "legend": {
         "title": {
          "text": "tienda"
         },
         "tracegroupgap": 0
        },
        "template": {
         "data": {
          "bar": [
           {
            "error_x": {
             "color": "#2a3f5f"
            },
            "error_y": {
             "color": "#2a3f5f"
            },
            "marker": {
             "line": {
              "color": "#E5ECF6",
              "width": 0.5
             },
             "pattern": {
              "fillmode": "overlay",
              "size": 10,
              "solidity": 0.2
             }
            },
            "type": "bar"
           }
          ],
          "barpolar": [
           {
            "marker": {
             "line": {
              "color": "#E5ECF6",
              "width": 0.5
             },
             "pattern": {
              "fillmode": "overlay",
              "size": 10,
              "solidity": 0.2
             }
            },
            "type": "barpolar"
           }
          ],
          "carpet": [
           {
            "aaxis": {
             "endlinecolor": "#2a3f5f",
             "gridcolor": "white",
             "linecolor": "white",
             "minorgridcolor": "white",
             "startlinecolor": "#2a3f5f"
            },
            "baxis": {
             "endlinecolor": "#2a3f5f",
             "gridcolor": "white",
             "linecolor": "white",
             "minorgridcolor": "white",
             "startlinecolor": "#2a3f5f"
            },
            "type": "carpet"
           }
          ],
          "choropleth": [
           {
            "colorbar": {
             "outlinewidth": 0,
             "ticks": ""
            },
            "type": "choropleth"
           }
          ],
          "contour": [
           {
            "colorbar": {
             "outlinewidth": 0,
             "ticks": ""
            },
            "colorscale": [
             [
              0,
              "#0d0887"
             ],
             [
              0.1111111111111111,
              "#46039f"
             ],
             [
              0.2222222222222222,
              "#7201a8"
             ],
             [
              0.3333333333333333,
              "#9c179e"
             ],
             [
              0.4444444444444444,
              "#bd3786"
             ],
             [
              0.5555555555555556,
              "#d8576b"
             ],
             [
              0.6666666666666666,
              "#ed7953"
             ],
             [
              0.7777777777777778,
              "#fb9f3a"
             ],
             [
              0.8888888888888888,
              "#fdca26"
             ],
             [
              1,
              "#f0f921"
             ]
            ],
            "type": "contour"
           }
          ],
          "contourcarpet": [
           {
            "colorbar": {
             "outlinewidth": 0,
             "ticks": ""
            },
            "type": "contourcarpet"
           }
          ],
          "heatmap": [
           {
            "colorbar": {
             "outlinewidth": 0,
             "ticks": ""
            },
            "colorscale": [
             [
              0,
              "#0d0887"
             ],
             [
              0.1111111111111111,
              "#46039f"
             ],
             [
              0.2222222222222222,
              "#7201a8"
             ],
             [
              0.3333333333333333,
              "#9c179e"
             ],
             [
              0.4444444444444444,
              "#bd3786"
             ],
             [
              0.5555555555555556,
              "#d8576b"
             ],
             [
              0.6666666666666666,
              "#ed7953"
             ],
             [
              0.7777777777777778,
              "#fb9f3a"
             ],
             [
              0.8888888888888888,
              "#fdca26"
             ],
             [
              1,
              "#f0f921"
             ]
            ],
            "type": "heatmap"
           }
          ],
          "histogram": [
           {
            "marker": {
             "pattern": {
              "fillmode": "overlay",
              "size": 10,
              "solidity": 0.2
             }
            },
            "type": "histogram"
           }
          ],
          "histogram2d": [
           {
            "colorbar": {
             "outlinewidth": 0,
             "ticks": ""
            },
            "colorscale": [
             [
              0,
              "#0d0887"
             ],
             [
              0.1111111111111111,
              "#46039f"
             ],
             [
              0.2222222222222222,
              "#7201a8"
             ],
             [
              0.3333333333333333,
              "#9c179e"
             ],
             [
              0.4444444444444444,
              "#bd3786"
             ],
             [
              0.5555555555555556,
              "#d8576b"
             ],
             [
              0.6666666666666666,
              "#ed7953"
             ],
             [
              0.7777777777777778,
              "#fb9f3a"
             ],
             [
              0.8888888888888888,
              "#fdca26"
             ],
             [
              1,
              "#f0f921"
             ]
            ],
            "type": "histogram2d"
           }
          ],
          "histogram2dcontour": [
           {
            "colorbar": {
             "outlinewidth": 0,
             "ticks": ""
            },
            "colorscale": [
             [
              0,
              "#0d0887"
             ],
             [
              0.1111111111111111,
              "#46039f"
             ],
             [
              0.2222222222222222,
              "#7201a8"
             ],
             [
              0.3333333333333333,
              "#9c179e"
             ],
             [
              0.4444444444444444,
              "#bd3786"
             ],
             [
              0.5555555555555556,
              "#d8576b"
             ],
             [
              0.6666666666666666,
              "#ed7953"
             ],
             [
              0.7777777777777778,
              "#fb9f3a"
             ],
             [
              0.8888888888888888,
              "#fdca26"
             ],
             [
              1,
              "#f0f921"
             ]
            ],
            "type": "histogram2dcontour"
           }
          ],
          "mesh3d": [
           {
            "colorbar": {
             "outlinewidth": 0,
             "ticks": ""
            },
            "type": "mesh3d"
           }
          ],
          "parcoords": [
           {
            "line": {
             "colorbar": {
              "outlinewidth": 0,
              "ticks": ""
             }
            },
            "type": "parcoords"
           }
          ],
          "pie": [
           {
            "automargin": true,
            "type": "pie"
           }
          ],
          "scatter": [
           {
            "fillpattern": {
             "fillmode": "overlay",
             "size": 10,
             "solidity": 0.2
            },
            "type": "scatter"
           }
          ],
          "scatter3d": [
           {
            "line": {
             "colorbar": {
              "outlinewidth": 0,
              "ticks": ""
             }
            },
            "marker": {
             "colorbar": {
              "outlinewidth": 0,
              "ticks": ""
             }
            },
            "type": "scatter3d"
           }
          ],
          "scattercarpet": [
           {
            "marker": {
             "colorbar": {
              "outlinewidth": 0,
              "ticks": ""
             }
            },
            "type": "scattercarpet"
           }
          ],
          "scattergeo": [
           {
            "marker": {
             "colorbar": {
              "outlinewidth": 0,
              "ticks": ""
             }
            },
            "type": "scattergeo"
           }
          ],
          "scattergl": [
           {
            "marker": {
             "colorbar": {
              "outlinewidth": 0,
              "ticks": ""
             }
            },
            "type": "scattergl"
           }
          ],
          "scattermap": [
           {
            "marker": {
             "colorbar": {
              "outlinewidth": 0,
              "ticks": ""
             }
            },
            "type": "scattermap"
           }
          ],
          "scattermapbox": [
           {
            "marker": {
             "colorbar": {
              "outlinewidth": 0,
              "ticks": ""
             }
            },
            "type": "scattermapbox"
           }
          ],
          "scatterpolar": [
           {
            "marker": {
             "colorbar": {
              "outlinewidth": 0,
              "ticks": ""
             }
            },
            "type": "scatterpolar"
           }
          ],
          "scatterpolargl": [
           {
            "marker": {
             "colorbar": {
              "outlinewidth": 0,
              "ticks": ""
             }
            },
            "type": "scatterpolargl"
           }
          ],
          "scatterternary": [
           {
            "marker": {
             "colorbar": {
              "outlinewidth": 0,
              "ticks": ""
             }
            },
            "type": "scatterternary"
           }
          ],
          "surface": [
           {
            "colorbar": {
             "outlinewidth": 0,
             "ticks": ""
            },
            "colorscale": [
             [
              0,
              "#0d0887"
             ],
             [
              0.1111111111111111,
              "#46039f"
             ],
             [
              0.2222222222222222,
              "#7201a8"
             ],
             [
              0.3333333333333333,
              "#9c179e"
             ],
             [
              0.4444444444444444,
              "#bd3786"
             ],
             [
              0.5555555555555556,
              "#d8576b"
             ],
             [
              0.6666666666666666,
              "#ed7953"
             ],
             [
              0.7777777777777778,
              "#fb9f3a"
             ],
             [
              0.8888888888888888,
              "#fdca26"
             ],
             [
              1,
              "#f0f921"
             ]
            ],
            "type": "surface"
           }
          ],
          "table": [
           {
            "cells": {
             "fill": {
              "color": "#EBF0F8"
             },
             "line": {
              "color": "white"
             }
            },
            "header": {
             "fill": {
              "color": "#C8D4E3"
             },
             "line": {
              "color": "white"
             }
            },
            "type": "table"
           }
          ]
         },
         "layout": {
          "annotationdefaults": {
           "arrowcolor": "#2a3f5f",
           "arrowhead": 0,
           "arrowwidth": 1
          },
          "autotypenumbers": "strict",
          "coloraxis": {
           "colorbar": {
            "outlinewidth": 0,
            "ticks": ""
           }
          },
          "colorscale": {
           "diverging": [
            [
             0,
             "#8e0152"
            ],
            [
             0.1,
             "#c51b7d"
            ],
            [
             0.2,
             "#de77ae"
            ],
            [
             0.3,
             "#f1b6da"
            ],
            [
             0.4,
             "#fde0ef"
            ],
            [
             0.5,
             "#f7f7f7"
            ],
            [
             0.6,
             "#e6f5d0"
            ],
            [
             0.7,
             "#b8e186"
            ],
            [
             0.8,
             "#7fbc41"
            ],
            [
             0.9,
             "#4d9221"
            ],
            [
             1,
             "#276419"
            ]
           ],
           "sequential": [
            [
             0,
             "#0d0887"
            ],
            [
             0.1111111111111111,
             "#46039f"
            ],
            [
             0.2222222222222222,
             "#7201a8"
            ],
            [
             0.3333333333333333,
             "#9c179e"
            ],
            [
             0.4444444444444444,
             "#bd3786"
            ],
            [
             0.5555555555555556,
             "#d8576b"
            ],
            [
             0.6666666666666666,
             "#ed7953"
            ],
            [
             0.7777777777777778,
             "#fb9f3a"
            ],
            [
             0.8888888888888888,
             "#fdca26"
            ],
            [
             1,
             "#f0f921"
            ]
           ],
           "sequentialminus": [
            [
             0,
             "#0d0887"
            ],
            [
             0.1111111111111111,
             "#46039f"
            ],
            [
             0.2222222222222222,
             "#7201a8"
            ],
            [
             0.3333333333333333,
             "#9c179e"
            ],
            [
             0.4444444444444444,
             "#bd3786"
            ],
            [
             0.5555555555555556,
             "#d8576b"
            ],
            [
             0.6666666666666666,
             "#ed7953"
            ],
            [
             0.7777777777777778,
             "#fb9f3a"
            ],
            [
             0.8888888888888888,
             "#fdca26"
            ],
            [
             1,
             "#f0f921"
            ]
           ]
          },
          "colorway": [
           "#636efa",
           "#EF553B",
           "#00cc96",
           "#ab63fa",
           "#FFA15A",
           "#19d3f3",
           "#FF6692",
           "#B6E880",
           "#FF97FF",
           "#FECB52"
          ],
          "font": {
           "color": "#2a3f5f"
          },
          "geo": {
           "bgcolor": "white",
           "lakecolor": "white",
           "landcolor": "#E5ECF6",
           "showlakes": true,
           "showland": true,
           "subunitcolor": "white"
          },
          "hoverlabel": {
           "align": "left"
          },
          "hovermode": "closest",
          "mapbox": {
           "style": "light"
          },
          "paper_bgcolor": "white",
          "plot_bgcolor": "#E5ECF6",
          "polar": {
           "angularaxis": {
            "gridcolor": "white",
            "linecolor": "white",
            "ticks": ""
           },
           "bgcolor": "#E5ECF6",
           "radialaxis": {
            "gridcolor": "white",
            "linecolor": "white",
            "ticks": ""
           }
          },
          "scene": {
           "xaxis": {
            "backgroundcolor": "#E5ECF6",
            "gridcolor": "white",
            "gridwidth": 2,
            "linecolor": "white",
            "showbackground": true,
            "ticks": "",
            "zerolinecolor": "white"
           },
           "yaxis": {
            "backgroundcolor": "#E5ECF6",
            "gridcolor": "white",
            "gridwidth": 2,
            "linecolor": "white",
            "showbackground": true,
            "ticks": "",
            "zerolinecolor": "white"
           },
           "zaxis": {
            "backgroundcolor": "#E5ECF6",
            "gridcolor": "white",
            "gridwidth": 2,
            "linecolor": "white",
            "showbackground": true,
            "ticks": "",
            "zerolinecolor": "white"
           }
          },
          "shapedefaults": {
           "line": {
            "color": "#2a3f5f"
           }
          },
          "ternary": {
           "aaxis": {
            "gridcolor": "white",
            "linecolor": "white",
            "ticks": ""
           },
           "baxis": {
            "gridcolor": "white",
            "linecolor": "white",
            "ticks": ""
           },
           "bgcolor": "#E5ECF6",
           "caxis": {
            "gridcolor": "white",
            "linecolor": "white",
            "ticks": ""
           }
          },
          "title": {
           "x": 0.05
          },
          "xaxis": {
           "automargin": true,
           "gridcolor": "white",
           "linecolor": "white",
           "ticks": "",
           "title": {
            "standoff": 15
           },
           "zerolinecolor": "white",
           "zerolinewidth": 2
          },
          "yaxis": {
           "automargin": true,
           "gridcolor": "white",
           "linecolor": "white",
           "ticks": "",
           "title": {
            "standoff": 15
           },
           "zerolinecolor": "white",
           "zerolinewidth": 2
          }
         }
        },
        "title": {
         "text": "Cantidad asignada por producto y tienda"
        },
        "xaxis": {
         "anchor": "y",
         "domain": [
          0,
          1
         ],
         "title": {
          "text": "producto"
         }
        },
        "yaxis": {
         "anchor": "x",
         "domain": [
          0,
          1
         ],
         "title": {
          "text": "cantidad"
         }
        }
       }
      }
     },
     "metadata": {},
     "output_type": "display_data"
    }
   ],
   "source": [
    "import plotly.express as px\n",
    "\n",
    "df_result = pd.DataFrame(df_result)\n",
    "\n",
    "df_result['producto'] = df_result['producto'].map(sets['productos'])  # SKU_01, etc.\n",
    "df_result['tienda'] = df_result['tienda'].map(sets['tiendas'])        # Tienda_01, etc.\n",
    "\n",
    "fig = px.bar(\n",
    "    df_result,\n",
    "    x='producto',          # eje X: productos\n",
    "    y='cantidad',          # eje Y: cantidad entregada\n",
    "    color='tienda',        # color por tienda\n",
    "    barmode='group',       # barras lado a lado\n",
    "    title='Cantidad asignada semanalmente por producto y tienda'\n",
    ")\n",
    "\n",
    "fig.show()"
   ]
  },
  {
   "cell_type": "code",
   "execution_count": null,
   "id": "b1fec256",
   "metadata": {},
   "outputs": [],
   "source": []
  }
 ],
 "metadata": {
  "kernelspec": {
   "display_name": "venv",
   "language": "python",
   "name": "python3"
  },
  "language_info": {
   "codemirror_mode": {
    "name": "ipython",
    "version": 3
   },
   "file_extension": ".py",
   "mimetype": "text/x-python",
   "name": "python",
   "nbconvert_exporter": "python",
   "pygments_lexer": "ipython3",
   "version": "3.10.6"
  }
 },
 "nbformat": 4,
 "nbformat_minor": 5
}
